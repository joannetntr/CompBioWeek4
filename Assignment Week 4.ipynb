{
 "cells": [
  {
   "cell_type": "code",
   "execution_count": 1,
   "metadata": {},
   "outputs": [
    {
     "name": "stdout",
     "output_type": "stream",
     "text": [
      "Input DNA: TTACGA\n",
      "Complement: AAUGCU\n",
      "mRNA: AAUGCU\n",
      "Amino Acids: Unknown - Unknown\n"
     ]
    }
   ],
   "source": [
    "# DNA to RNA Complement Mapping\n",
    "dna_to_rna = {\n",
    "    \"A\": \"U\",\n",
    "    \"T\": \"A\",\n",
    "    \"C\": \"G\",\n",
    "    \"G\": \"C\"\n",
    "}\n",
    "\n",
    "# Genetic Code Table for Translation\n",
    "codon_table = {\n",
    "    \"AUG\": \"Methionine (M)\", \"UUU\": \"Phenylalanine (F)\", \"UUC\": \"Phenylalanine (F)\", \"UUA\": \"Leucine (L)\",\n",
    "    \"UUG\": \"Leucine (L)\", \"CUU\": \"Leucine (L)\", \"CUC\": \"Leucine (L)\", \"CUA\": \"Leucine (L)\", \"CUG\": \"Leucine (L)\",\n",
    "    \"AUU\": \"Isoleucine (I)\", \"AUC\": \"Isoleucine (I)\", \"AUA\": \"Isoleucine (I)\", \"GUU\": \"Valine (V)\", \n",
    "    \"GUC\": \"Valine (V)\", \"GUA\": \"Valine (V)\", \"GUG\": \"Valine (V)\", \"UCU\": \"Serine (S)\",\n",
    "    # Add remaining codons here\n",
    "}\n",
    "\n",
    "# Step 1: Function to get complement of DNA\n",
    "def get_complement(dna):\n",
    "    return \"\".join([dna_to_rna[base] for base in dna])\n",
    "\n",
    "# Step 2: Transcribe DNA to mRNA\n",
    "def transcribe_to_mrna(dna_complement):\n",
    "    return dna_complement.replace(\"T\", \"U\")\n",
    "\n",
    "# Step 3: Translate mRNA to Amino Acid Sequence\n",
    "def translate_to_amino_acids(mrna):\n",
    "    codons = [mrna[i:i+3] for i in range(0, len(mrna), 3)]\n",
    "    amino_acids = [codon_table.get(codon, 'Unknown') for codon in codons]\n",
    "    return \" - \".join(amino_acids)\n",
    "\n",
    "# Example usage\n",
    "dna_sequence = \"TTACGA\"\n",
    "complement = get_complement(dna_sequence)\n",
    "mrna = transcribe_to_mrna(complement)\n",
    "amino_acids = translate_to_amino_acids(mrna)\n",
    "\n",
    "print(f\"Input DNA: {dna_sequence}\")\n",
    "print(f\"Complement: {complement}\")\n",
    "print(f\"mRNA: {mrna}\")\n",
    "print(f\"Amino Acids: {amino_acids}\")\n"
   ]
  },
  {
   "cell_type": "code",
   "execution_count": 2,
   "metadata": {},
   "outputs": [
    {
     "name": "stdout",
     "output_type": "stream",
     "text": [
      "Input Amino Acid Sequence: YW\n",
      "mRNA Sequence: UGGUACUGG\n",
      "Codon Frequency: {'UAU': 0, 'UAC': 1, 'UGG': 2}\n"
     ]
    }
   ],
   "source": [
    "# Reverse lookup table for Amino Acids to Codons\n",
    "amino_acid_to_codon = {\n",
    "    \"W\": [\"UGG\"],\n",
    "    \"Y\": [\"UAU\", \"UAC\"],\n",
    "    # Add remaining amino acids to codons mapping here\n",
    "}\n",
    "\n",
    "# Step 1: Function to get possible codons for amino acid sequence\n",
    "def get_codons_for_amino_acids(amino_acid_sequence):\n",
    "    codons = []\n",
    "    for aa in amino_acid_sequence:\n",
    "        codons.extend(amino_acid_to_codon.get(aa, []))\n",
    "    return codons\n",
    "\n",
    "# Step 2: Function to count codon frequency in mRNA sequence\n",
    "def codon_frequency(mrna, codons_to_count):\n",
    "    mrna_codons = [mrna[i:i+3] for i in range(0, len(mrna), 3)]\n",
    "    frequency = {}\n",
    "    for codon in codons_to_count:\n",
    "        frequency[codon] = mrna_codons.count(codon)\n",
    "    return frequency\n",
    "\n",
    "# Example usage\n",
    "amino_acid_sequence = \"YW\"\n",
    "possible_codons = get_codons_for_amino_acids(amino_acid_sequence)\n",
    "mrna_sequence = \"UGGUACUGG\"\n",
    "\n",
    "frequency_result = codon_frequency(mrna_sequence, possible_codons)\n",
    "\n",
    "print(f\"Input Amino Acid Sequence: {amino_acid_sequence}\")\n",
    "print(f\"mRNA Sequence: {mrna_sequence}\")\n",
    "print(f\"Codon Frequency: {frequency_result}\")\n"
   ]
  }
 ],
 "metadata": {
  "kernelspec": {
   "display_name": "Python 3",
   "language": "python",
   "name": "python3"
  },
  "language_info": {
   "codemirror_mode": {
    "name": "ipython",
    "version": 3
   },
   "file_extension": ".py",
   "mimetype": "text/x-python",
   "name": "python",
   "nbconvert_exporter": "python",
   "pygments_lexer": "ipython3",
   "version": "3.12.0"
  }
 },
 "nbformat": 4,
 "nbformat_minor": 2
}
